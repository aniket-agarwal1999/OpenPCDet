{
 "cells": [
  {
   "cell_type": "code",
   "execution_count": 1,
   "id": "ce48e5e2-d500-4bc3-b1de-8ab25249c966",
   "metadata": {},
   "outputs": [
    {
     "name": "stdout",
     "output_type": "stream",
     "text": [
      "Jupyter environment detected. Enabling Open3D WebVisualizer.\n",
      "[Open3D INFO] WebRTC GUI backend enabled.\n",
      "[Open3D INFO] WebRTCWindowSystem: HTTP handshake server disabled.\n"
     ]
    },
    {
     "name": "stderr",
     "output_type": "stream",
     "text": [
      "<frozen importlib._bootstrap>:219: RuntimeWarning: scipy._lib.messagestream.MessageStream size changed, may indicate binary incompatibility. Expected 56 from C header, got 64 from PyObject\n"
     ]
    }
   ],
   "source": [
    "import numpy as np\n",
    "import open3d\n",
    "import pickle as pkl\n",
    "import torch"
   ]
  },
  {
   "cell_type": "code",
   "execution_count": 2,
   "id": "3f4ad309-104f-42ad-8c25-66225b42ec55",
   "metadata": {},
   "outputs": [],
   "source": [
    "data_dict_loc = '1607-143021244/data_dict.pkl'\n",
    "pred_dict_loc = '1607-143021244//pred_dict.pkl'"
   ]
  },
  {
   "cell_type": "code",
   "execution_count": 3,
   "id": "c9ffd3cd-02b9-4da7-bbcc-4b7fc5242dfc",
   "metadata": {},
   "outputs": [],
   "source": [
    "with open(data_dict_loc, 'rb') as file:\n",
    "    data_dict = pkl.load(file)\n",
    "\n",
    "with open(pred_dict_loc, 'rb') as file:\n",
    "    pred_dict = pkl.load(file)"
   ]
  },
  {
   "cell_type": "code",
   "execution_count": 4,
   "id": "72532536-4c9a-4798-b374-21bacaadcf7b",
   "metadata": {},
   "outputs": [
    {
     "data": {
      "text/plain": [
       "array([[  0.       ,  27.5542   , -31.9538   ,  15.9793   ,   0.       ],\n",
       "       [  0.       ,  27.3868   , -32.1565   ,  15.9963   ,   0.       ],\n",
       "       [  0.       ,  26.9993   , -32.0985   ,  15.8847   ,   0.       ],\n",
       "       ...,\n",
       "       [  0.       ,   1.99034  ,   0.060584 ,  -0.780597 ,   0.       ],\n",
       "       [  0.       ,   2.01856  ,   0.0490654,  -0.791626 ,   0.       ],\n",
       "       [  0.       ,   2.06439  ,   0.0375345,  -0.809641 ,   0.       ]],\n",
       "      dtype=float32)"
      ]
     },
     "execution_count": 4,
     "metadata": {},
     "output_type": "execute_result"
    }
   ],
   "source": [
    "data_dict['points']"
   ]
  },
  {
   "cell_type": "code",
   "execution_count": 5,
   "id": "7de84cd9-f947-43ce-b67e-f3bedaf55e9a",
   "metadata": {},
   "outputs": [
    {
     "data": {
      "text/plain": [
       "{'pred_boxes': array([[  1.3119578 ,   5.853373  ,  -0.59230673,   0.41738972,\n",
       "           0.45552054,   1.5290838 ,   3.477679  ],\n",
       "        [ 29.494904  ,  16.33713   ,  -0.85819024,   3.4525747 ,\n",
       "           1.5573701 ,   1.4580625 ,   5.3251176 ],\n",
       "        [ 24.76013   ,  -9.071726  ,  -0.20101176,   3.4634647 ,\n",
       "           1.652355  ,   1.6754034 ,   3.3416688 ],\n",
       "        [ 14.376092  ,   7.541929  ,  -0.48910043,   3.622657  ,\n",
       "           1.5746876 ,   1.4420577 ,   1.3164713 ],\n",
       "        [ 21.638906  ,   3.0925167 ,  -0.6536154 ,   3.7388947 ,\n",
       "           1.6871119 ,   1.3593096 ,   2.5330553 ],\n",
       "        [  7.889608  , -14.110378  ,  -1.099024  ,   3.9845731 ,\n",
       "           1.4794515 ,   1.3429484 ,   2.0542426 ],\n",
       "        [  0.69889635,  21.93235   ,  -0.6637959 ,   3.6904538 ,\n",
       "           1.507566  ,   1.3925595 ,   5.8991456 ],\n",
       "        [  8.675017  ,  22.207909  ,  -0.56216985,   3.7920983 ,\n",
       "           1.5595655 ,   1.3701258 ,   3.5307953 ],\n",
       "        [ 11.629646  ,  28.37143   ,  -0.46542788,   4.0906034 ,\n",
       "           1.6379285 ,   1.437443  ,   1.2920803 ],\n",
       "        [ 16.855955  ,   8.864338  ,  -0.3949453 ,   4.2066245 ,\n",
       "           1.6438522 ,   1.6740118 ,   6.053388  ],\n",
       "        [ 24.29015   ,  10.42148   ,  -0.51149017,   3.3207252 ,\n",
       "           1.4258184 ,   1.4766997 ,   3.2773054 ]], dtype=float32),\n",
       " 'pred_scores': array([0.35080406, 0.3470033 , 0.31881827, 0.29989904, 0.27918154,\n",
       "        0.2522847 , 0.1860033 , 0.17690298, 0.15679173, 0.14702292,\n",
       "        0.12650487], dtype=float32),\n",
       " 'pred_labels': array([2, 1, 1, 1, 1, 1, 1, 1, 1, 1, 1])}"
      ]
     },
     "execution_count": 5,
     "metadata": {},
     "output_type": "execute_result"
    }
   ],
   "source": [
    "pred_dict"
   ]
  },
  {
   "cell_type": "code",
   "execution_count": 6,
   "id": "167f036c-3962-43d5-8969-46c42d54b9d7",
   "metadata": {},
   "outputs": [],
   "source": [
    "box_colormap = [\n",
    "    [1, 1, 1],\n",
    "    [0, 1, 0],\n",
    "    [0, 1, 1],\n",
    "    [1, 1, 0],\n",
    "]"
   ]
  },
  {
   "cell_type": "code",
   "execution_count": 7,
   "id": "ad80e2ef-d9bb-4d31-8584-326312c25449",
   "metadata": {},
   "outputs": [],
   "source": [
    "def translate_boxes_to_open3d_instance(gt_boxes):\n",
    "    \"\"\"\n",
    "             4-------- 6\n",
    "           /|         /|\n",
    "          5 -------- 3 .\n",
    "          | |        | |\n",
    "          . 7 -------- 1\n",
    "          |/         |/\n",
    "          2 -------- 0\n",
    "    \"\"\"\n",
    "    center = gt_boxes[0:3]\n",
    "    lwh = gt_boxes[3:6]\n",
    "    axis_angles = np.array([0, 0, gt_boxes[6] + 1e-10])\n",
    "    rot = open3d.geometry.get_rotation_matrix_from_axis_angle(axis_angles)\n",
    "    box3d = open3d.geometry.OrientedBoundingBox(center, rot, lwh)\n",
    "\n",
    "    line_set = open3d.geometry.LineSet.create_from_oriented_bounding_box(box3d)\n",
    "\n",
    "    # import ipdb; ipdb.set_trace(context=20)\n",
    "    lines = np.asarray(line_set.lines)\n",
    "    lines = np.concatenate([lines, np.array([[1, 4], [7, 6]])], axis=0)\n",
    "\n",
    "    line_set.lines = open3d.utility.Vector2iVector(lines)\n",
    "\n",
    "    return line_set, box3d"
   ]
  },
  {
   "cell_type": "code",
   "execution_count": 8,
   "id": "f4739fc7-f15e-4f43-94ce-e0d0c547025d",
   "metadata": {},
   "outputs": [],
   "source": [
    "def draw_box(vis, gt_boxes, color=(0, 1, 0), ref_labels=None, score=None):\n",
    "    for i in range(gt_boxes.shape[0]):\n",
    "        line_set, box3d = translate_boxes_to_open3d_instance(gt_boxes[i])\n",
    "        if ref_labels is None:\n",
    "            line_set.paint_uniform_color(color)\n",
    "        else:\n",
    "            line_set.paint_uniform_color(box_colormap[ref_labels[i]])\n",
    "\n",
    "        vis.add_geometry(line_set)\n",
    "\n",
    "        # if score is not None:\n",
    "        #     corners = box3d.get_box_points()\n",
    "        #     vis.add_3d_label(corners[5], '%.2f' % score[i])\n",
    "    return vis\n"
   ]
  },
  {
   "cell_type": "code",
   "execution_count": 9,
   "id": "f11eccfa-a60d-42f6-991c-b4e068f2464f",
   "metadata": {},
   "outputs": [],
   "source": [
    "def draw_scenes(points, gt_boxes=None, ref_boxes=None, ref_labels=None, ref_scores=None, point_colors=None, draw_origin=True):\n",
    "\n",
    "    vis = open3d.visualization.Visualizer()\n",
    "    vis.create_window()\n",
    "\n",
    "    vis.get_render_option().point_size = 1.0\n",
    "    vis.get_render_option().background_color = np.zeros(3)\n",
    "\n",
    "    # draw origin\n",
    "    if draw_origin:\n",
    "        axis_pcd = open3d.geometry.TriangleMesh.create_coordinate_frame(size=1.0, origin=[0, 0, 0])\n",
    "        vis.add_geometry(axis_pcd)\n",
    "\n",
    "    pts = open3d.geometry.PointCloud()\n",
    "    pts.points = open3d.utility.Vector3dVector(points[:, :3])\n",
    "\n",
    "    vis.add_geometry(pts)\n",
    "    if point_colors is None:\n",
    "        pts.colors = open3d.utility.Vector3dVector(np.ones((points.shape[0], 3)))\n",
    "    else:\n",
    "        pts.colors = open3d.utility.Vector3dVector(point_colors)\n",
    "\n",
    "    if gt_boxes is not None:\n",
    "        vis = draw_box(vis, gt_boxes, (0, 0, 1))\n",
    "\n",
    "    if ref_boxes is not None:\n",
    "        vis = draw_box(vis, ref_boxes, (0, 1, 0), ref_labels, ref_scores)\n",
    "\n",
    "    vis.run()\n",
    "    vis.destroy_window()"
   ]
  },
  {
   "cell_type": "code",
   "execution_count": 10,
   "id": "cda96c6c-0cab-406c-b88e-6a992afa4d54",
   "metadata": {},
   "outputs": [
    {
     "name": "stdout",
     "output_type": "stream",
     "text": [
      "\u001b[1;33m[Open3D WARNING] invalid color in PaintUniformColor, clipping to [0, 1]\u001b[0;m\n",
      "\u001b[1;33m[Open3D WARNING] invalid color in PaintUniformColor, clipping to [0, 1]\u001b[0;m\n",
      "\u001b[1;33m[Open3D WARNING] invalid color in PaintUniformColor, clipping to [0, 1]\u001b[0;m\n",
      "\u001b[1;33m[Open3D WARNING] invalid color in PaintUniformColor, clipping to [0, 1]\u001b[0;m\n",
      "\u001b[1;33m[Open3D WARNING] invalid color in PaintUniformColor, clipping to [0, 1]\u001b[0;m\n",
      "\u001b[1;33m[Open3D WARNING] invalid color in PaintUniformColor, clipping to [0, 1]\u001b[0;m\n",
      "\u001b[1;33m[Open3D WARNING] invalid color in PaintUniformColor, clipping to [0, 1]\u001b[0;m\n",
      "\u001b[1;33m[Open3D WARNING] invalid color in PaintUniformColor, clipping to [0, 1]\u001b[0;m\n",
      "\u001b[1;33m[Open3D WARNING] invalid color in PaintUniformColor, clipping to [0, 1]\u001b[0;m\n",
      "\u001b[1;33m[Open3D WARNING] invalid color in PaintUniformColor, clipping to [0, 1]\u001b[0;m\n",
      "\u001b[1;33m[Open3D WARNING] invalid color in PaintUniformColor, clipping to [0, 1]\u001b[0;m\n"
     ]
    }
   ],
   "source": [
    "draw_scenes(data_dict['points'][:, 1:], ref_boxes=pred_dict['pred_boxes'], ref_scores=pred_dict['pred_scores'], ref_labels=pred_dict['pred_labels'])"
   ]
  },
  {
   "cell_type": "code",
   "execution_count": null,
   "id": "53b9bd9a-e7fb-4aa9-ba81-c19b558cc1c2",
   "metadata": {},
   "outputs": [],
   "source": []
  }
 ],
 "metadata": {
  "kernelspec": {
   "display_name": "nuscenes",
   "language": "python",
   "name": "nuscenes"
  },
  "language_info": {
   "codemirror_mode": {
    "name": "ipython",
    "version": 3
   },
   "file_extension": ".py",
   "mimetype": "text/x-python",
   "name": "python",
   "nbconvert_exporter": "python",
   "pygments_lexer": "ipython3",
   "version": "3.8.20"
  }
 },
 "nbformat": 4,
 "nbformat_minor": 5
}
